{
 "cells": [
  {
   "cell_type": "markdown",
   "id": "677b9f19",
   "metadata": {},
   "source": [
    "# Evaluation Metrics For Regression Models"
   ]
  },
  {
   "cell_type": "markdown",
   "id": "c3252832",
   "metadata": {},
   "source": [
    "To be able to measure the performance of a regression model and compare several models, different metrics could use:\n",
    "    R2 Score, MSE,RMSE,MAE,MAPE"
   ]
  },
  {
   "cell_type": "markdown",
   "id": "d7ec24f5",
   "metadata": {},
   "source": [
    "1. Loading the dataset and fitting the model"
   ]
  },
  {
   "cell_type": "markdown",
   "id": "2e51b6e2",
   "metadata": {},
   "source": [
    "We will use the Diabetes daa used in the \"Least Angle Regression\" paper: N=442 patients, p=10 predictors. One row per patient, \n",
    "    and the last column is the response variable."
   ]
  },
  {
   "cell_type": "markdown",
   "id": "97405fc3",
   "metadata": {},
   "source": [
    "dataset(raw): https://www4.stat.ncsu.edu/~boos/var.select/diabetes.tab.txt"
   ]
  },
  {
   "cell_type": "code",
   "execution_count": 26,
   "id": "767c9bd0",
   "metadata": {},
   "outputs": [
    {
     "name": "stdout",
     "output_type": "stream",
     "text": [
      "Requirement already satisfied: scikit-learn in c:\\users\\kiran\\anaconda3\\lib\\site-packages (1.2.2)Note: you may need to restart the kernel to use updated packages.\n",
      "\n",
      "Requirement already satisfied: numpy>=1.17.3 in c:\\users\\kiran\\anaconda3\\lib\\site-packages (from scikit-learn) (1.21.5)\n",
      "Requirement already satisfied: threadpoolctl>=2.0.0 in c:\\users\\kiran\\anaconda3\\lib\\site-packages (from scikit-learn) (2.2.0)\n",
      "Requirement already satisfied: scipy>=1.3.2 in c:\\users\\kiran\\anaconda3\\lib\\site-packages (from scikit-learn) (1.9.1)\n",
      "Requirement already satisfied: joblib>=1.1.1 in c:\\users\\kiran\\anaconda3\\lib\\site-packages (from scikit-learn) (1.2.0)\n"
     ]
    }
   ],
   "source": [
    "pip install -U scikit-learn"
   ]
  },
  {
   "cell_type": "code",
   "execution_count": 110,
   "id": "bb2509b8",
   "metadata": {},
   "outputs": [],
   "source": [
    "import pandas as pd\n",
    "import numpy as np\n",
    "import matplotlib.pyplot as plt\n",
    "from sklearn.preprocessing import StandardScaler\n",
    "from sklearn.preprocessing import normalize\n",
    "from sklearn.preprocessing import MinMaxScaler\n",
    "import time\n",
    "from pandas.io.json import json_normalize\n",
    "from sklearn.datasets import make_classification\n",
    "from sklearn.linear_model import LogisticRegression\n",
    "from sklearn.model_selection import train_test_split\n",
    "from sklearn.pipeline import make_pipeline\n",
    "from sklearn.linear_model import LinearRegression,Lasso\n",
    "from sklearn.metrics import r2_score\n",
    "from sklearn.metrics import explained_variance_score,mean_squared_error,mean_absolute_error,mean_absolute_percentage_error,median_absolute_error\n"
   ]
  },
  {
   "cell_type": "code",
   "execution_count": 35,
   "id": "34c14d58",
   "metadata": {},
   "outputs": [
    {
     "name": "stdout",
     "output_type": "stream",
     "text": [
      "(442, 11)\n"
     ]
    },
    {
     "data": {
      "text/html": [
       "<div>\n",
       "<style scoped>\n",
       "    .dataframe tbody tr th:only-of-type {\n",
       "        vertical-align: middle;\n",
       "    }\n",
       "\n",
       "    .dataframe tbody tr th {\n",
       "        vertical-align: top;\n",
       "    }\n",
       "\n",
       "    .dataframe thead th {\n",
       "        text-align: right;\n",
       "    }\n",
       "</style>\n",
       "<table border=\"1\" class=\"dataframe\">\n",
       "  <thead>\n",
       "    <tr style=\"text-align: right;\">\n",
       "      <th></th>\n",
       "      <th>AGE</th>\n",
       "      <th>SEX</th>\n",
       "      <th>BMI</th>\n",
       "      <th>BP</th>\n",
       "      <th>S1</th>\n",
       "      <th>S2</th>\n",
       "      <th>S3</th>\n",
       "      <th>S4</th>\n",
       "      <th>S5</th>\n",
       "      <th>S6</th>\n",
       "      <th>Y</th>\n",
       "    </tr>\n",
       "  </thead>\n",
       "  <tbody>\n",
       "    <tr>\n",
       "      <th>0</th>\n",
       "      <td>59</td>\n",
       "      <td>2</td>\n",
       "      <td>32.1</td>\n",
       "      <td>101.0</td>\n",
       "      <td>157</td>\n",
       "      <td>93.2</td>\n",
       "      <td>38.0</td>\n",
       "      <td>4.0</td>\n",
       "      <td>4.8598</td>\n",
       "      <td>87</td>\n",
       "      <td>151</td>\n",
       "    </tr>\n",
       "    <tr>\n",
       "      <th>1</th>\n",
       "      <td>48</td>\n",
       "      <td>1</td>\n",
       "      <td>21.6</td>\n",
       "      <td>87.0</td>\n",
       "      <td>183</td>\n",
       "      <td>103.2</td>\n",
       "      <td>70.0</td>\n",
       "      <td>3.0</td>\n",
       "      <td>3.8918</td>\n",
       "      <td>69</td>\n",
       "      <td>75</td>\n",
       "    </tr>\n",
       "    <tr>\n",
       "      <th>2</th>\n",
       "      <td>72</td>\n",
       "      <td>2</td>\n",
       "      <td>30.5</td>\n",
       "      <td>93.0</td>\n",
       "      <td>156</td>\n",
       "      <td>93.6</td>\n",
       "      <td>41.0</td>\n",
       "      <td>4.0</td>\n",
       "      <td>4.6728</td>\n",
       "      <td>85</td>\n",
       "      <td>141</td>\n",
       "    </tr>\n",
       "    <tr>\n",
       "      <th>3</th>\n",
       "      <td>24</td>\n",
       "      <td>1</td>\n",
       "      <td>25.3</td>\n",
       "      <td>84.0</td>\n",
       "      <td>198</td>\n",
       "      <td>131.4</td>\n",
       "      <td>40.0</td>\n",
       "      <td>5.0</td>\n",
       "      <td>4.8903</td>\n",
       "      <td>89</td>\n",
       "      <td>206</td>\n",
       "    </tr>\n",
       "    <tr>\n",
       "      <th>4</th>\n",
       "      <td>50</td>\n",
       "      <td>1</td>\n",
       "      <td>23.0</td>\n",
       "      <td>101.0</td>\n",
       "      <td>192</td>\n",
       "      <td>125.4</td>\n",
       "      <td>52.0</td>\n",
       "      <td>4.0</td>\n",
       "      <td>4.2905</td>\n",
       "      <td>80</td>\n",
       "      <td>135</td>\n",
       "    </tr>\n",
       "  </tbody>\n",
       "</table>\n",
       "</div>"
      ],
      "text/plain": [
       "   AGE  SEX   BMI     BP   S1     S2    S3   S4      S5  S6    Y\n",
       "0   59    2  32.1  101.0  157   93.2  38.0  4.0  4.8598  87  151\n",
       "1   48    1  21.6   87.0  183  103.2  70.0  3.0  3.8918  69   75\n",
       "2   72    2  30.5   93.0  156   93.6  41.0  4.0  4.6728  85  141\n",
       "3   24    1  25.3   84.0  198  131.4  40.0  5.0  4.8903  89  206\n",
       "4   50    1  23.0  101.0  192  125.4  52.0  4.0  4.2905  80  135"
      ]
     },
     "execution_count": 35,
     "metadata": {},
     "output_type": "execute_result"
    }
   ],
   "source": [
    "df=pd.read_csv('https://www4.stat.ncsu.edu/~boos/var.select/diabetes.tab.txt',sep=\"\\t\")\n",
    "print(df.shape)\n",
    "df.head()"
   ]
  },
  {
   "cell_type": "markdown",
   "id": "7a09e1aa",
   "metadata": {},
   "source": [
    "We will also normalize data, to have the same order of magnitude among the independent variables:"
   ]
  },
  {
   "cell_type": "code",
   "execution_count": 43,
   "id": "2cda7ad9",
   "metadata": {},
   "outputs": [
    {
     "name": "stdout",
     "output_type": "stream",
     "text": [
      "Normalized data:Scaled data/L2 norm\n"
     ]
    },
    {
     "data": {
      "text/html": [
       "<div>\n",
       "<style scoped>\n",
       "    .dataframe tbody tr th:only-of-type {\n",
       "        vertical-align: middle;\n",
       "    }\n",
       "\n",
       "    .dataframe tbody tr th {\n",
       "        vertical-align: top;\n",
       "    }\n",
       "\n",
       "    .dataframe thead th {\n",
       "        text-align: right;\n",
       "    }\n",
       "</style>\n",
       "<table border=\"1\" class=\"dataframe\">\n",
       "  <thead>\n",
       "    <tr style=\"text-align: right;\">\n",
       "      <th></th>\n",
       "      <th>AGE</th>\n",
       "      <th>SEX</th>\n",
       "      <th>BMI</th>\n",
       "      <th>BP</th>\n",
       "      <th>S1</th>\n",
       "      <th>S2</th>\n",
       "      <th>S3</th>\n",
       "      <th>S4</th>\n",
       "      <th>S5</th>\n",
       "      <th>S6</th>\n",
       "      <th>Y</th>\n",
       "    </tr>\n",
       "  </thead>\n",
       "  <tbody>\n",
       "    <tr>\n",
       "      <th>0</th>\n",
       "      <td>0.242521</td>\n",
       "      <td>0.012301</td>\n",
       "      <td>0.132441</td>\n",
       "      <td>0.146990</td>\n",
       "      <td>-0.743632</td>\n",
       "      <td>-0.514549</td>\n",
       "      <td>-0.272751</td>\n",
       "      <td>-0.001625</td>\n",
       "      <td>0.005053</td>\n",
       "      <td>-0.098568</td>\n",
       "      <td>-1.133484</td>\n",
       "    </tr>\n",
       "    <tr>\n",
       "      <th>1</th>\n",
       "      <td>-0.015115</td>\n",
       "      <td>-0.013662</td>\n",
       "      <td>-0.139324</td>\n",
       "      <td>-0.223086</td>\n",
       "      <td>-0.179130</td>\n",
       "      <td>-0.357052</td>\n",
       "      <td>0.589631</td>\n",
       "      <td>-0.031222</td>\n",
       "      <td>-0.021868</td>\n",
       "      <td>-0.649396</td>\n",
       "      <td>-77.133484</td>\n",
       "    </tr>\n",
       "    <tr>\n",
       "      <th>2</th>\n",
       "      <td>0.493611</td>\n",
       "      <td>0.011176</td>\n",
       "      <td>0.086695</td>\n",
       "      <td>-0.034622</td>\n",
       "      <td>-0.696639</td>\n",
       "      <td>-0.459079</td>\n",
       "      <td>-0.184742</td>\n",
       "      <td>-0.001477</td>\n",
       "      <td>0.000660</td>\n",
       "      <td>-0.131595</td>\n",
       "      <td>-11.133484</td>\n",
       "    </tr>\n",
       "    <tr>\n",
       "      <th>3</th>\n",
       "      <td>-0.722696</td>\n",
       "      <td>-0.013804</td>\n",
       "      <td>-0.031710</td>\n",
       "      <td>-0.313832</td>\n",
       "      <td>0.261150</td>\n",
       "      <td>0.470463</td>\n",
       "      <td>-0.288525</td>\n",
       "      <td>0.027405</td>\n",
       "      <td>0.007336</td>\n",
       "      <td>-0.066621</td>\n",
       "      <td>53.866516</td>\n",
       "    </tr>\n",
       "    <tr>\n",
       "      <th>4</th>\n",
       "      <td>0.086518</td>\n",
       "      <td>-0.027342</td>\n",
       "      <td>-0.197088</td>\n",
       "      <td>0.370906</td>\n",
       "      <td>0.166959</td>\n",
       "      <td>0.581543</td>\n",
       "      <td>0.129116</td>\n",
       "      <td>-0.004101</td>\n",
       "      <td>-0.020487</td>\n",
       "      <td>-0.657402</td>\n",
       "      <td>-17.133484</td>\n",
       "    </tr>\n",
       "  </tbody>\n",
       "</table>\n",
       "</div>"
      ],
      "text/plain": [
       "        AGE       SEX       BMI        BP        S1        S2        S3  \\\n",
       "0  0.242521  0.012301  0.132441  0.146990 -0.743632 -0.514549 -0.272751   \n",
       "1 -0.015115 -0.013662 -0.139324 -0.223086 -0.179130 -0.357052  0.589631   \n",
       "2  0.493611  0.011176  0.086695 -0.034622 -0.696639 -0.459079 -0.184742   \n",
       "3 -0.722696 -0.013804 -0.031710 -0.313832  0.261150  0.470463 -0.288525   \n",
       "4  0.086518 -0.027342 -0.197088  0.370906  0.166959  0.581543  0.129116   \n",
       "\n",
       "         S4        S5        S6          Y  \n",
       "0 -0.001625  0.005053 -0.098568  -1.133484  \n",
       "1 -0.031222 -0.021868 -0.649396 -77.133484  \n",
       "2 -0.001477  0.000660 -0.131595 -11.133484  \n",
       "3  0.027405  0.007336 -0.066621  53.866516  \n",
       "4 -0.004101 -0.020487 -0.657402 -17.133484  "
      ]
     },
     "execution_count": 43,
     "metadata": {},
     "output_type": "execute_result"
    }
   ],
   "source": [
    "# Scaled data : X-mean: # Start by subtracting the mean with StandardScaler, without dividing by the std(with_std=False)\n",
    "df_sc=StandardScaler(with_std=False).fit_transform(df)\n",
    "df_sc=pd.DataFrame(data=df_sc,columns=df.columns)\n",
    "\n",
    "### Normalize data: divide each feature by its L2 norm\n",
    "# If axis=0 no need to transpose, this available in normalize method but not in normalizer\n",
    "\n",
    "df_norm=normalize(df_sc.iloc[:,:-1],norm='l2')\n",
    "\n",
    "#or transpose the dataframe: (as axis=1 is the default value)\n",
    "#df_norm=normalize(df_sc.iloc[:,:-1],T,norm='12')\n",
    "#(not to gorget to transpose the results too, to go back to the initial shape)\n",
    "\n",
    "df_norm=pd.DataFrame(data=df_norm,columns=df.columns[:-1])\n",
    "df_norm['Y']=df_sc['Y']\n",
    "print('Normalized data:Scaled data/L2 norm')\n",
    "df_norm.head()"
   ]
  },
  {
   "cell_type": "markdown",
   "id": "55855d49",
   "metadata": {},
   "source": [
    "1.2 Model to Fit"
   ]
  },
  {
   "cell_type": "markdown",
   "id": "960101a5",
   "metadata": {},
   "source": [
    "To illustrate the computation of the the different metrics,step by step, let`s take the predicted values given\n",
    "by the OLS model'y_predict_ols'.In this example we will not be splitting the dataset to train and test sets.\n",
    "It`s no the objective of this notebook"
   ]
  },
  {
   "cell_type": "code",
   "execution_count": 57,
   "id": "7374f219",
   "metadata": {},
   "outputs": [
    {
     "data": {
      "text/plain": [
       "0.48233609146755896"
      ]
     },
     "execution_count": 57,
     "metadata": {},
     "output_type": "execute_result"
    }
   ],
   "source": [
    "features=df.columns[:-1]\n",
    "X=df_norm[features]\n",
    "y=df_norm['Y']\n",
    "\n",
    "### OLS:Orinary Least Square\n",
    "reg_ols=LinearRegression(fit_intercept=False)\n",
    "reg_ols.fit(X,y)\n",
    "#Predict Values\n",
    "y_predict_ols=reg_ols.predict(X)\n",
    "df_errors=pd.DataFrame()\n",
    "df_errors['y_true']=y\n",
    "df_errors['yhat']=y_predict_ols\n",
    "\n",
    "df_errors['y_yhat']=df_errors['y_true']-df_errors['yhat']\n",
    "df_errors['(y_yhat)**2']=df_errors['y_yhat']**2\n",
    "mean_y=df_errors['y_true'].mean()\n",
    "df_errors['(y_ymean)**2']=(df_errors['y_true']-mean_y)**2\n",
    "\n",
    "r2_recomp=1-(np.sum(df_errors['(y_yhat)**2'])/np.sum(df_errors['(y_ymean)**2']))\n",
    "r2_recomp"
   ]
  },
  {
   "cell_type": "markdown",
   "id": "537f701d",
   "metadata": {},
   "source": [
    "SKLEARN "
   ]
  },
  {
   "cell_type": "code",
   "execution_count": 61,
   "id": "9a1b7748",
   "metadata": {},
   "outputs": [
    {
     "data": {
      "text/plain": [
       "0.48233609146755885"
      ]
     },
     "execution_count": 61,
     "metadata": {},
     "output_type": "execute_result"
    }
   ],
   "source": [
    "r2_sk_learn=r2_score(y,y_predict_ols)\n",
    "r2_sk_learn"
   ]
  },
  {
   "cell_type": "markdown",
   "id": "86c59b76",
   "metadata": {},
   "source": [
    "Both"
   ]
  },
  {
   "cell_type": "code",
   "execution_count": 62,
   "id": "8d06f6e3",
   "metadata": {},
   "outputs": [
    {
     "name": "stdout",
     "output_type": "stream",
     "text": [
      "r2 recomputed: 0.48233609146755896 r2_sk_learn 0.48233609146755885\n"
     ]
    }
   ],
   "source": [
    "print('r2 recomputed:',r2_recomp,'r2_sk_learn',r2_sk_learn)"
   ]
  },
  {
   "cell_type": "markdown",
   "id": "1a11b1b6",
   "metadata": {},
   "source": [
    "Let`s Visualize"
   ]
  },
  {
   "cell_type": "code",
   "execution_count": 63,
   "id": "f55984e9",
   "metadata": {},
   "outputs": [
    {
     "data": {
      "text/plain": [
       "Text(0.5, 1.0, 'Regression: Predicted vs True')"
      ]
     },
     "execution_count": 63,
     "metadata": {},
     "output_type": "execute_result"
    },
    {
     "data": {
      "image/png": "[encoded data removed]",
      "text/plain": [
       "<Figure size 640x480 with 1 Axes>"
      ]
     },
     "metadata": {},
     "output_type": "display_data"
    }
   ],
   "source": [
    "plt.scatter(y_predict_ols,y)\n",
    "plt.plot(y,y,'-r')\n",
    "plt.annotate(r\"R2={0}\".format(round(r2_recomp,3)),xy=(200,200),xytext=(-65,-10),\n",
    "            textcoords='offset points',fontsize=12)\n",
    "plt.xlabel('y_predict_ols')\n",
    "plt.ylabel('y_true')\n",
    "plt.title('Regression: Predicted vs True')"
   ]
  },
  {
   "cell_type": "markdown",
   "id": "9baafb15",
   "metadata": {},
   "source": [
    "Explained Variable Score"
   ]
  },
  {
   "cell_type": "code",
   "execution_count": 66,
   "id": "5a86fe0a",
   "metadata": {},
   "outputs": [
    {
     "data": {
      "text/plain": [
       "0.4824491425011799"
      ]
     },
     "execution_count": 66,
     "metadata": {},
     "output_type": "execute_result"
    }
   ],
   "source": [
    "N=y.shape[0]\n",
    "\n",
    "df_errors=pd.DataFrame()\n",
    "df_errors['y_true']=y\n",
    "df_errors['yhat']=y_predict_ols\n",
    "\n",
    "mean_y=df_errors['y_true'].mean()\n",
    "df_errors['(y_ymean)**2']=(df_errors['y_true']-mean_y)**2\n",
    "var_y=np.sum(df_errors['(y_ymean)**2'])/N\n",
    "df_errors['y_yhat']=df_errors['y_true']-df_errors['yhat']\n",
    "mean_yyhat=df_errors['y_yhat'].mean()\n",
    "df_errors['(y_yhat_yyhatmean)**2']=(df_errors['y_yhat']-mean_yyhat)**2\n",
    "var_yyhat=np.sum(df_errors['(y_yhat_yyhatmean)**2'])/N\n",
    "\n",
    "explained_variance_recomp=1-var_yyhat/var_y\n",
    "explained_variance_recomp"
   ]
  },
  {
   "cell_type": "markdown",
   "id": "3b626b26",
   "metadata": {},
   "source": [
    "SKLearn"
   ]
  },
  {
   "cell_type": "code",
   "execution_count": 70,
   "id": "a94ddec6",
   "metadata": {},
   "outputs": [
    {
     "data": {
      "text/plain": [
       "0.4824491425011799"
      ]
     },
     "execution_count": 70,
     "metadata": {},
     "output_type": "execute_result"
    }
   ],
   "source": [
    "explained_variance_sklearn=explained_variance_score(y,y_predict_ols)\n",
    "explained_variance_sklearn"
   ]
  },
  {
   "cell_type": "markdown",
   "id": "55d94050",
   "metadata": {},
   "source": [
    "Both"
   ]
  },
  {
   "cell_type": "code",
   "execution_count": 72,
   "id": "db81624f",
   "metadata": {},
   "outputs": [
    {
     "name": "stdout",
     "output_type": "stream",
     "text": [
      "Explained variance recomputed: 0.4824491425011799 Explained variance from sk_learn 0.4824491425011799\n"
     ]
    }
   ],
   "source": [
    "print('Explained variance recomputed:',explained_variance_recomp,'Explained variance from sk_learn',explained_variance_sklearn)"
   ]
  },
  {
   "cell_type": "markdown",
   "id": "8eda8630",
   "metadata": {},
   "source": [
    "One can see that the explained variance and the R2 score are equal. That`s because the mean of the residual is ~0"
   ]
  },
  {
   "cell_type": "code",
   "execution_count": 73,
   "id": "d50d5757",
   "metadata": {},
   "outputs": [
    {
     "data": {
      "text/plain": [
       "0.8187671322471713"
      ]
     },
     "execution_count": 73,
     "metadata": {},
     "output_type": "execute_result"
    }
   ],
   "source": [
    "mean_yyhat=df_errors['y_yhat'].mean()\n",
    "mean_yyhat"
   ]
  },
  {
   "cell_type": "markdown",
   "id": "6b047ff0",
   "metadata": {},
   "source": [
    "MSE : Mean Squared Error"
   ]
  },
  {
   "cell_type": "code",
   "execution_count": 74,
   "id": "0b2ec906",
   "metadata": {},
   "outputs": [
    {
     "data": {
      "text/plain": [
       "3069.6873928821205"
      ]
     },
     "execution_count": 74,
     "metadata": {},
     "output_type": "execute_result"
    }
   ],
   "source": [
    "N=y.shape[0]\n",
    "df_errors=pd.DataFrame()\n",
    "df_errors['y_true']=y\n",
    "df_errors['yhat']=y_predict_ols\n",
    "df_errors['y_yhat']=df_errors['y_true']-df_errors['yhat']\n",
    "df_errors['(y_yhat)**2']=df_errors['y_yhat']**2\n",
    "mse_recomp=np.sum(df_errors['(y_yhat)**2'])/N\n",
    "mse_recomp"
   ]
  },
  {
   "cell_type": "markdown",
   "id": "1e06b0f7",
   "metadata": {},
   "source": [
    "SKLearn"
   ]
  },
  {
   "cell_type": "code",
   "execution_count": 78,
   "id": "e3d16b3d",
   "metadata": {},
   "outputs": [
    {
     "data": {
      "text/plain": [
       "3069.6873928821205"
      ]
     },
     "execution_count": 78,
     "metadata": {},
     "output_type": "execute_result"
    }
   ],
   "source": [
    "mse_sklearn=mean_squared_error(y,y_predict_ols)\n",
    "mse_sklearn"
   ]
  },
  {
   "cell_type": "markdown",
   "id": "658f7b1c",
   "metadata": {},
   "source": [
    "Both"
   ]
  },
  {
   "cell_type": "code",
   "execution_count": 80,
   "id": "c1a40891",
   "metadata": {},
   "outputs": [
    {
     "name": "stdout",
     "output_type": "stream",
     "text": [
      "MSE Recomputed: 3069.6873928821205 MSE from sk_learn 3069.6873928821205\n"
     ]
    }
   ],
   "source": [
    "print('MSE Recomputed:',mse_recomp,'MSE from sk_learn',mse_sklearn)"
   ]
  },
  {
   "cell_type": "markdown",
   "id": "bb49c8b4",
   "metadata": {},
   "source": [
    "RMSE: Root Mean Squared Error"
   ]
  },
  {
   "cell_type": "code",
   "execution_count": 82,
   "id": "8a84cbc8",
   "metadata": {},
   "outputs": [
    {
     "data": {
      "text/plain": [
       "55.40475965909536"
      ]
     },
     "execution_count": 82,
     "metadata": {},
     "output_type": "execute_result"
    }
   ],
   "source": [
    "rmse_recomp=np.sqrt(mse_recomp)\n",
    "rmse_recomp"
   ]
  },
  {
   "cell_type": "markdown",
   "id": "b922268a",
   "metadata": {},
   "source": [
    "SK Learn"
   ]
  },
  {
   "cell_type": "code",
   "execution_count": 83,
   "id": "42217c24",
   "metadata": {},
   "outputs": [
    {
     "data": {
      "text/plain": [
       "55.40475965909536"
      ]
     },
     "execution_count": 83,
     "metadata": {},
     "output_type": "execute_result"
    }
   ],
   "source": [
    "rmse_sklearn=mean_squared_error(y,y_predict_ols,squared=False)\n",
    "rmse_sklearn"
   ]
  },
  {
   "cell_type": "markdown",
   "id": "660c7535",
   "metadata": {},
   "source": [
    "Both"
   ]
  },
  {
   "cell_type": "code",
   "execution_count": 84,
   "id": "4abe0be5",
   "metadata": {},
   "outputs": [
    {
     "name": "stdout",
     "output_type": "stream",
     "text": [
      "RMSE Recomputed: 55.40475965909536 RMSE from sk_learn: 55.40475965909536\n"
     ]
    }
   ],
   "source": [
    "print('RMSE Recomputed:',rmse_recomp,'RMSE from sk_learn:',rmse_sklearn)"
   ]
  },
  {
   "cell_type": "markdown",
   "id": "de583e3f",
   "metadata": {},
   "source": [
    "MAE : Mean Absolute Error"
   ]
  },
  {
   "cell_type": "code",
   "execution_count": 93,
   "id": "e23e5156",
   "metadata": {},
   "outputs": [
    {
     "data": {
      "text/plain": [
       "45.885213649138834"
      ]
     },
     "execution_count": 93,
     "metadata": {},
     "output_type": "execute_result"
    }
   ],
   "source": [
    "N=y.shape[0]\n",
    "df_errors=pd.DataFrame()\n",
    "df_errors['y_true']=y\n",
    "df_errors['yhat']=y_predict_ols\n",
    "df_errors['y_yhat']=df_errors['y_true']-df_errors['yhat']\n",
    "df_errors['abs(y_yhat)']=df_errors['y_yhat'].abs()\n",
    "mae_recomp=np.sum(df_errors['abs(y_yhat)'])/N\n",
    "mae_recomp"
   ]
  },
  {
   "cell_type": "markdown",
   "id": "203cd4d3",
   "metadata": {},
   "source": [
    "SK Learn"
   ]
  },
  {
   "cell_type": "code",
   "execution_count": 94,
   "id": "e8c9d36e",
   "metadata": {},
   "outputs": [
    {
     "data": {
      "text/plain": [
       "45.885213649138834"
      ]
     },
     "execution_count": 94,
     "metadata": {},
     "output_type": "execute_result"
    }
   ],
   "source": [
    "mae_sklearn=mean_absolute_error(y,y_predict_ols)\n",
    "mae_sklearn"
   ]
  },
  {
   "cell_type": "markdown",
   "id": "46e8347b",
   "metadata": {},
   "source": [
    "Both"
   ]
  },
  {
   "cell_type": "code",
   "execution_count": 92,
   "id": "788d924f",
   "metadata": {},
   "outputs": [
    {
     "name": "stdout",
     "output_type": "stream",
     "text": [
      "MAE recomputed: 45.885213649138834 MAE from sk_learn: 45.885213649138834\n"
     ]
    }
   ],
   "source": [
    "print('MAE recomputed:',mae_recomp,'MAE from sk_learn:',mae_sklearn)"
   ]
  },
  {
   "cell_type": "markdown",
   "id": "e7c5ae73",
   "metadata": {},
   "source": [
    "MAPE: Mean Absolute Percentage Error"
   ]
  },
  {
   "cell_type": "code",
   "execution_count": 96,
   "id": "3dd556d8",
   "metadata": {},
   "outputs": [
    {
     "data": {
      "text/plain": [
       "3.03466206442493"
      ]
     },
     "execution_count": 96,
     "metadata": {},
     "output_type": "execute_result"
    }
   ],
   "source": [
    "N=y.shape[0]\n",
    "epsilon=0.0001\n",
    "df_errors=pd.DataFrame()\n",
    "df_errors['y_true']=y\n",
    "df_errors['yhat']=y_predict_ols\n",
    "df_errors['y_yhat']=df_errors['y_true']-df_errors['yhat']\n",
    "df_errors['abs(y_yhat)']=df_errors['y_yhat'].abs()\n",
    "df_errors['abs(y_true)']=df_errors['y_true'].apply(lambda x:max(epsilon,np.abs(x)))\n",
    "df_errors['(y_yhat)/y']=df_errors['abs(y_yhat)']/df_errors['abs(y_true)']\n",
    "mape_recomp=np.sum(df_errors['(y_yhat)/y'])/N\n",
    "mape_recomp"
   ]
  },
  {
   "cell_type": "markdown",
   "id": "70db746f",
   "metadata": {},
   "source": [
    "SK Learn"
   ]
  },
  {
   "cell_type": "code",
   "execution_count": 98,
   "id": "f3b59d0b",
   "metadata": {},
   "outputs": [
    {
     "data": {
      "text/plain": [
       "3.03466206442493"
      ]
     },
     "execution_count": 98,
     "metadata": {},
     "output_type": "execute_result"
    }
   ],
   "source": [
    "mape_sklearn=mean_absolute_percentage_error(y,y_predict_ols)\n",
    "mape_sklearn"
   ]
  },
  {
   "cell_type": "markdown",
   "id": "1c80ab2a",
   "metadata": {},
   "source": [
    "Both"
   ]
  },
  {
   "cell_type": "code",
   "execution_count": 99,
   "id": "43638e88",
   "metadata": {},
   "outputs": [
    {
     "name": "stdout",
     "output_type": "stream",
     "text": [
      "MAPE recomputed: 3.03466206442493 MAPE from sklearn: 3.03466206442493\n"
     ]
    }
   ],
   "source": [
    "print('MAPE recomputed:',mape_recomp, 'MAPE from sklearn:',mape_sklearn)"
   ]
  },
  {
   "cell_type": "code",
   "execution_count": 101,
   "id": "260eeb4b",
   "metadata": {},
   "outputs": [
    {
     "data": {
      "text/plain": [
       "42.166118060703866"
      ]
     },
     "execution_count": 101,
     "metadata": {},
     "output_type": "execute_result"
    }
   ],
   "source": [
    "N=y.shape[0]\n",
    "epsilon=0.0001\n",
    "df_errors=pd.DataFrame()\n",
    "df_errors['y_true']=y\n",
    "df_errors['yhat']=y_predict_ols\n",
    "df_errors['y_yhat']=df_errors['y_true']-df_errors['yhat']\n",
    "df_errors['abs(y_yhat)']=df_errors['y_yhat'].abs()\n",
    "\n",
    "medae_recomp=np.median(df_errors['abs(y_yhat)'])\n",
    "medae_recomp"
   ]
  },
  {
   "cell_type": "markdown",
   "id": "4c1d2ce2",
   "metadata": {},
   "source": [
    "SK Learn"
   ]
  },
  {
   "cell_type": "code",
   "execution_count": 104,
   "id": "1f6c33e8",
   "metadata": {},
   "outputs": [
    {
     "data": {
      "text/plain": [
       "42.166118060703866"
      ]
     },
     "execution_count": 104,
     "metadata": {},
     "output_type": "execute_result"
    }
   ],
   "source": [
    "medae_sklearn=median_absolute_error(y,y_predict_ols)\n",
    "medae_sklearn"
   ]
  },
  {
   "cell_type": "markdown",
   "id": "9c1010f0",
   "metadata": {},
   "source": [
    "Both"
   ]
  },
  {
   "cell_type": "code",
   "execution_count": 105,
   "id": "9763c658",
   "metadata": {},
   "outputs": [
    {
     "name": "stdout",
     "output_type": "stream",
     "text": [
      "MEDAE Recomputed: 42.166118060703866 MEDAE from sklearn 42.166118060703866\n"
     ]
    }
   ],
   "source": [
    "print('MEDAE Recomputed:',medae_recomp, 'MEDAE from sklearn', medae_sklearn)"
   ]
  },
  {
   "cell_type": "markdown",
   "id": "3b2e9701",
   "metadata": {},
   "source": [
    " Evaluation Metrics to compare among models"
   ]
  },
  {
   "cell_type": "markdown",
   "id": "f9d1c5fa",
   "metadata": {},
   "source": [
    "We will use 2 regression models, to fit the data and evaluate their performance.\n",
    "As explained at the beginning, we will not be splitting the dataset to train and test sets.\n",
    "Its not the objective of this notebook."
   ]
  },
  {
   "cell_type": "code",
   "execution_count": 111,
   "id": "4110859b",
   "metadata": {},
   "outputs": [],
   "source": [
    "features=df.columns[:-1]\n",
    "X=df_norm[features]\n",
    "y=df_norm['Y']\n",
    "\n",
    "### OLS: Ordinary Least Square\n",
    "\n",
    "reg_ols=LinearRegression(fit_intercept=False)\n",
    "reg_ols.fit(X,y)\n",
    "\n",
    "## Predict Values\n",
    "y_predict_ols=reg_ols.predict(X)\n",
    "\n",
    "## LASSO\n",
    "reg_lasso=Lasso(alpha=1,fit_intercept=False) # Without cross-validation to find the best alpha, it`s not the objective here\n",
    "reg_lasso.fit(X,y)\n",
    "#Predict values\n",
    "y_predict_lasso=reg_lasso.predict(X)"
   ]
  },
  {
   "cell_type": "markdown",
   "id": "36efa5d5",
   "metadata": {},
   "source": [
    "Now what we fit the models, let`s compute the different metrics for each of them:"
   ]
  },
  {
   "cell_type": "code",
   "execution_count": 114,
   "id": "f1f45ac7",
   "metadata": {},
   "outputs": [],
   "source": [
    "predicted_values=[y_predict_ols,y_predict_lasso]\n",
    "models=['OLS','LASSO']\n",
    "\n",
    "measures_list=[]\n",
    "\n",
    "i=0\n",
    "\n",
    "for y_predict in predicted_values:\n",
    "    r2=r2_score(y,y_predict)\n",
    "    explained_variance=explained_variance_score(y,y_predict)\n",
    "    mse=mean_squared_error(y,y_predict)\n",
    "    rmse=mean_squared_error(y,y_predict,squared=False)\n",
    "    mae=mean_absolute_error(y,y_predict)\n",
    "    mape=mean_absolute_percentage_error(y,y_predict)\n",
    "    medae=median_absolute_error(y,y_predict)\n",
    "    measures_list.append([models[i],r2,explained_variance,mse,rmse,mae,mape,medae])\n",
    "    i=+1\n",
    "    \n",
    "    df_results=pd.DataFrame(data=measures_list,\n",
    "                            columns=['model','r2','explained_var','mse','rmse','mae','mape','medae'])"
   ]
  },
  {
   "cell_type": "code",
   "execution_count": 115,
   "id": "d3931d58",
   "metadata": {},
   "outputs": [
    {
     "data": {
      "text/html": [
       "<div>\n",
       "<style scoped>\n",
       "    .dataframe tbody tr th:only-of-type {\n",
       "        vertical-align: middle;\n",
       "    }\n",
       "\n",
       "    .dataframe tbody tr th {\n",
       "        vertical-align: top;\n",
       "    }\n",
       "\n",
       "    .dataframe thead th {\n",
       "        text-align: right;\n",
       "    }\n",
       "</style>\n",
       "<table border=\"1\" class=\"dataframe\">\n",
       "  <thead>\n",
       "    <tr style=\"text-align: right;\">\n",
       "      <th></th>\n",
       "      <th>model</th>\n",
       "      <th>r2</th>\n",
       "      <th>explained_var</th>\n",
       "      <th>mse</th>\n",
       "      <th>rmse</th>\n",
       "      <th>mae</th>\n",
       "      <th>mape</th>\n",
       "      <th>medae</th>\n",
       "    </tr>\n",
       "  </thead>\n",
       "  <tbody>\n",
       "    <tr>\n",
       "      <th>0</th>\n",
       "      <td>OLS</td>\n",
       "      <td>0.482336</td>\n",
       "      <td>0.482449</td>\n",
       "      <td>3069.687393</td>\n",
       "      <td>55.40476</td>\n",
       "      <td>45.885214</td>\n",
       "      <td>3.034662</td>\n",
       "      <td>42.166118</td>\n",
       "    </tr>\n",
       "    <tr>\n",
       "      <th>1</th>\n",
       "      <td>LASSO</td>\n",
       "      <td>0.428986</td>\n",
       "      <td>0.429100</td>\n",
       "      <td>3386.045847</td>\n",
       "      <td>58.18974</td>\n",
       "      <td>48.293216</td>\n",
       "      <td>3.093502</td>\n",
       "      <td>44.530827</td>\n",
       "    </tr>\n",
       "  </tbody>\n",
       "</table>\n",
       "</div>"
      ],
      "text/plain": [
       "   model        r2  explained_var          mse      rmse        mae      mape  \\\n",
       "0    OLS  0.482336       0.482449  3069.687393  55.40476  45.885214  3.034662   \n",
       "1  LASSO  0.428986       0.429100  3386.045847  58.18974  48.293216  3.093502   \n",
       "\n",
       "       medae  \n",
       "0  42.166118  \n",
       "1  44.530827  "
      ]
     },
     "execution_count": 115,
     "metadata": {},
     "output_type": "execute_result"
    }
   ],
   "source": [
    "df_results"
   ]
  },
  {
   "cell_type": "markdown",
   "id": "d195429c",
   "metadata": {},
   "source": [
    "As shown in the results, the R2 is higher for the OLS(0.48) than the Lasso model(0.12)\n",
    "(even if the value in absolute terms is not that high)\n",
    "\n",
    "At this stage, we can assume that the OLS is a better model than the Lasso for our dataset\n",
    "\n",
    "Furthermore, the MSE and RMSE are lower for the OLS than Lasso. Once again, OLS is a good fit for our dataset\n",
    "\n",
    "MAE and MedAE are also showing better results for OLS than Lasso\n",
    "\n",
    "However, MAPE is lower for the Lasso than the OLS, showing that there are some values of the true y that could be high, making\n",
    "the relative value of the residual lower. It could be interesting to study the outliers in the dataset, and remove them if any.\n",
    "\n",
    "Globally, the OLS model is showin gbetter metrics than the Lasso model. Thus between these 2 models, OLS will be a good fit \n",
    "for our Dataset.\n",
    "\n",
    "I hope you enjoyed it."
   ]
  },
  {
   "cell_type": "code",
   "execution_count": null,
   "id": "26fa3035",
   "metadata": {},
   "outputs": [],
   "source": []
  }
 ],
 "metadata": {
  "kernelspec": {
   "display_name": "Python 3 (ipykernel)",
   "language": "python",
   "name": "python3"
  },
  "language_info": {
   "codemirror_mode": {
    "name": "ipython",
    "version": 3
   },
   "file_extension": ".py",
   "mimetype": "text/x-python",
   "name": "python",
   "nbconvert_exporter": "python",
   "pygments_lexer": "ipython3",
   "version": "3.9.13"
  }
 },
 "nbformat": 4,
 "nbformat_minor": 5
}
